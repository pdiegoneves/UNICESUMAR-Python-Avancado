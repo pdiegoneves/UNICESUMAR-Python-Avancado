{
 "cells": [
  {
   "cell_type": "markdown",
   "metadata": {},
   "source": [
    "# Programção funcional\n",
    "- lambda\n",
    "- reduce\n",
    "- filter\n",
    "- map"
   ]
  },
  {
   "cell_type": "markdown",
   "metadata": {},
   "source": [
    "## Lambda\n",
    "Função anonima"
   ]
  },
  {
   "cell_type": "code",
   "execution_count": 5,
   "metadata": {},
   "outputs": [],
   "source": [
    "(lambda base, altura: base * altura)(2,2)\n",
    "\n",
    "modelos = [\n",
    "    {\"marca\": \"Mi\", \"tela\": 6.5, \"cor\": \"Dourada\"},\n",
    "    {\"marca\": \"Iphone\", \"tela\": 6.1, \"cor\": \"Preta\"},\n",
    "    {\"marca\": \"Samsung\", \"tela\": 7.2 , \"cor\": \"Azul\"},\n",
    "    {\"marca\": \"Nokia\", \"tela\": 5.5, \"cor\": \"Preta\"}\n",
    "]"
   ]
  },
  {
   "cell_type": "code",
   "execution_count": 6,
   "metadata": {},
   "outputs": [
    {
     "data": {
      "text/plain": [
       "[{'marca': 'Iphone', 'tela': 6.1, 'cor': 'Preta'},\n",
       " {'marca': 'Mi', 'tela': 6.5, 'cor': 'Dourada'},\n",
       " {'marca': 'Nokia', 'tela': 5.5, 'cor': 'Preta'},\n",
       " {'marca': 'Samsung', 'tela': 7.2, 'cor': 'Azul'}]"
      ]
     },
     "execution_count": 6,
     "metadata": {},
     "output_type": "execute_result"
    }
   ],
   "source": [
    "modelos_ordenados = sorted(modelos, key=lambda x: x[\"marca\"])\n",
    "\n",
    "modelos_ordenados"
   ]
  },
  {
   "cell_type": "markdown",
   "metadata": {},
   "source": [
    "## Reduce\n",
    "Reduz uma lista a um valor"
   ]
  },
  {
   "cell_type": "code",
   "execution_count": 9,
   "metadata": {},
   "outputs": [
    {
     "data": {
      "text/plain": [
       "7.2"
      ]
     },
     "execution_count": 9,
     "metadata": {},
     "output_type": "execute_result"
    }
   ],
   "source": [
    "from functools import reduce\n",
    "import numpy as np\n",
    "maior_tela = reduce(lambda a, b: b['tela'] if b['tela'] > a else a, modelos, 0)\n",
    "\n",
    "maior_tela"
   ]
  },
  {
   "cell_type": "markdown",
   "metadata": {},
   "source": [
    "## Filter\n",
    "Filtra uma lista com base em algum critério"
   ]
  },
  {
   "cell_type": "code",
   "execution_count": 10,
   "metadata": {},
   "outputs": [
    {
     "data": {
      "text/plain": [
       "[{'marca': 'Iphone', 'tela': 6.1, 'cor': 'Preta'},\n",
       " {'marca': 'Nokia', 'tela': 5.5, 'cor': 'Preta'}]"
      ]
     },
     "execution_count": 10,
     "metadata": {},
     "output_type": "execute_result"
    }
   ],
   "source": [
    "modelos_cor_preta = filter(lambda x: (x['cor'] == \"Preta\"), modelos)\n",
    "list(modelos_cor_preta)"
   ]
  },
  {
   "cell_type": "markdown",
   "metadata": {},
   "source": [
    "## Map\n",
    "Executa função para todos os elementos da lista"
   ]
  }
 ],
 "metadata": {
  "kernelspec": {
   "display_name": "unicesumar-python-avancado-hpnoA3aI-py3.12",
   "language": "python",
   "name": "python3"
  },
  "language_info": {
   "codemirror_mode": {
    "name": "ipython",
    "version": 3
   },
   "file_extension": ".py",
   "mimetype": "text/x-python",
   "name": "python",
   "nbconvert_exporter": "python",
   "pygments_lexer": "ipython3",
   "version": "3.12.2"
  }
 },
 "nbformat": 4,
 "nbformat_minor": 2
}
