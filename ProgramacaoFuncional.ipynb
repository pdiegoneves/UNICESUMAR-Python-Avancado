{
 "cells": [
  {
   "cell_type": "markdown",
   "metadata": {},
   "source": [
    "# Programção funcional\n",
    "- lambda\n",
    "- reduce\n",
    "- filter\n",
    "- map"
   ]
  },
  {
   "cell_type": "markdown",
   "metadata": {},
   "source": [
    "## Lambda\n",
    "Função anonima"
   ]
  },
  {
   "cell_type": "code",
   "execution_count": 3,
   "metadata": {},
   "outputs": [],
   "source": [
    "(lambda base, altura: base * altura)(2,2)\n",
    "\n",
    "modelos = [\n",
    "    {\"marca\": \"Mi\", \"tela\": 6.5, \"cor\": \"Dourada\"},\n",
    "    {\"marca\": \"Iphone\", \"tela\": 6.1, \"cor\": \"Preta\"},\n",
    "    {\"marca\": \"Samsung\", \"tela\": 7.2 , \"cor\": \"Azul\"},\n",
    "    {\"marca\": \"Nokia\", \"tela\": 5.5, \"cor\": \"Preta\"}\n",
    "]"
   ]
  },
  {
   "cell_type": "code",
   "execution_count": 4,
   "metadata": {},
   "outputs": [
    {
     "data": {
      "text/plain": [
       "[{'marca': 'Iphone', 'tela': 6.1, 'cor': 'Preta'},\n",
       " {'marca': 'Mi', 'tela': 6.5, 'cor': 'Dourada'},\n",
       " {'marca': 'Nokia', 'tela': 5.5, 'cor': 'Preta'},\n",
       " {'marca': 'Samsung', 'tela': 7.2, 'cor': 'Azul'}]"
      ]
     },
     "execution_count": 4,
     "metadata": {},
     "output_type": "execute_result"
    }
   ],
   "source": [
    "modelos_ordenados = sorted(modelos, key=lambda x: x[\"marca\"])\n",
    "\n",
    "modelos_ordenados"
   ]
  },
  {
   "cell_type": "markdown",
   "metadata": {},
   "source": [
    "## Reduce\n",
    "Reduz uma lista a um valor"
   ]
  },
  {
   "cell_type": "code",
   "execution_count": 5,
   "metadata": {},
   "outputs": [
    {
     "data": {
      "text/plain": [
       "7.2"
      ]
     },
     "execution_count": 5,
     "metadata": {},
     "output_type": "execute_result"
    }
   ],
   "source": [
    "from functools import reduce\n",
    "import numpy as np\n",
    "maior_tela = reduce(lambda a, b: b['tela'] if b['tela'] > a else a, modelos, 0)\n",
    "\n",
    "maior_tela"
   ]
  },
  {
   "cell_type": "markdown",
   "metadata": {},
   "source": [
    "## Filter\n",
    "Filtra uma lista com base em algum critério"
   ]
  },
  {
   "cell_type": "code",
   "execution_count": 10,
   "metadata": {},
   "outputs": [
    {
     "data": {
      "text/plain": [
       "[{'marca': 'Iphone', 'tela': 6.1, 'cor': 'Preta'},\n",
       " {'marca': 'Nokia', 'tela': 5.5, 'cor': 'Preta'}]"
      ]
     },
     "execution_count": 10,
     "metadata": {},
     "output_type": "execute_result"
    }
   ],
   "source": [
    "modelos_cor_preta = filter(lambda x: (x['cor'] == \"Preta\"), modelos)\n",
    "list(modelos_cor_preta)"
   ]
  },
  {
   "cell_type": "markdown",
   "metadata": {},
   "source": [
    "## Map\n",
    "Executa função para todos os elementos da lista"
   ]
  },
  {
   "cell_type": "code",
   "execution_count": 7,
   "metadata": {},
   "outputs": [
    {
     "data": {
      "text/plain": [
       "[{'marca': 'Mi',\n",
       "  'tela': 6.5,\n",
       "  'cor': 'Dourada',\n",
       "  'descricao': 'Celular da Mi tem a tela: 6.5 da cor: Dourada'},\n",
       " {'marca': 'Iphone',\n",
       "  'tela': 6.1,\n",
       "  'cor': 'Preta',\n",
       "  'descricao': 'Celular da Iphone tem a tela: 6.1 da cor: Preta'},\n",
       " {'marca': 'Samsung',\n",
       "  'tela': 7.2,\n",
       "  'cor': 'Azul',\n",
       "  'descricao': 'Celular da Samsung tem a tela: 7.2 da cor: Azul'},\n",
       " {'marca': 'Nokia',\n",
       "  'tela': 5.5,\n",
       "  'cor': 'Preta',\n",
       "  'descricao': 'Celular da Nokia tem a tela: 5.5 da cor: Preta'}]"
      ]
     },
     "execution_count": 7,
     "metadata": {},
     "output_type": "execute_result"
    }
   ],
   "source": [
    "def descricao(modelo):\n",
    "    modelo['descricao'] = f\"Celular da {modelo['marca']} tem a tela: {modelo['tela']} da cor: {modelo['cor']}\"\n",
    "\n",
    "    return modelo\n",
    "\n",
    "modelos_descricao = map(lambda x: descricao(x), modelos)\n",
    "list(modelos_descricao)"
   ]
  },
  {
   "cell_type": "markdown",
   "metadata": {},
   "source": [
    "## Funções Currying\n",
    "Reduzir funções\n",
    "Criando funções que recebam outras funções como argumentos\n"
   ]
  },
  {
   "cell_type": "markdown",
   "metadata": {},
   "source": [
    "## List Comprehends\n",
    "Forma de escrever listas que deixa o código mais legível e as vezes mais rápido"
   ]
  },
  {
   "cell_type": "code",
   "execution_count": 8,
   "metadata": {},
   "outputs": [],
   "source": [
    "cores = ['black', 'white']\n",
    "tamanhos = ['S', 'M', 'L']"
   ]
  },
  {
   "cell_type": "code",
   "execution_count": 9,
   "metadata": {},
   "outputs": [
    {
     "data": {
      "text/plain": [
       "[{'cor': 'black', 'tamanho': 'S'},\n",
       " {'cor': 'black', 'tamanho': 'M'},\n",
       " {'cor': 'black', 'tamanho': 'L'},\n",
       " {'cor': 'white', 'tamanho': 'S'},\n",
       " {'cor': 'white', 'tamanho': 'M'},\n",
       " {'cor': 'white', 'tamanho': 'L'}]"
      ]
     },
     "execution_count": 9,
     "metadata": {},
     "output_type": "execute_result"
    }
   ],
   "source": [
    "tshirts = []\n",
    "for color in cores:\n",
    "    for size in tamanhos:\n",
    "        tshirts.append({'cor': color, 'tamanho': size})\n",
    "tshirts"
   ]
  },
  {
   "cell_type": "code",
   "execution_count": 10,
   "metadata": {},
   "outputs": [
    {
     "data": {
      "text/plain": [
       "[{'cor': 'black', 'tamanho': 'S'},\n",
       " {'cor': 'black', 'tamanho': 'M'},\n",
       " {'cor': 'black', 'tamanho': 'L'},\n",
       " {'cor': 'white', 'tamanho': 'S'},\n",
       " {'cor': 'white', 'tamanho': 'M'},\n",
       " {'cor': 'white', 'tamanho': 'L'}]"
      ]
     },
     "execution_count": 10,
     "metadata": {},
     "output_type": "execute_result"
    }
   ],
   "source": [
    "tshirts = [ {'cor': color, 'tamanho': size} for color in cores for size in tamanhos]\n",
    "tshirts"
   ]
  },
  {
   "cell_type": "markdown",
   "metadata": {},
   "source": [
    "## Iterables e Iterators"
   ]
  },
  {
   "cell_type": "code",
   "execution_count": 11,
   "metadata": {},
   "outputs": [
    {
     "name": "stdout",
     "output_type": "stream",
     "text": [
      "A\n",
      "B\n",
      "C\n"
     ]
    }
   ],
   "source": [
    "s = 'ABC'\n",
    "for char in s:\n",
    "    print(char)"
   ]
  },
  {
   "cell_type": "code",
   "execution_count": 12,
   "metadata": {},
   "outputs": [
    {
     "name": "stdout",
     "output_type": "stream",
     "text": [
      "A\n",
      "B\n",
      "C\n"
     ]
    }
   ],
   "source": [
    "s = 'ABC'\n",
    "it = iter(s)\n",
    "while True:\n",
    "    try:\n",
    "        print(next(it))\n",
    "    except StopIteration:\n",
    "        del it\n",
    "        break"
   ]
  },
  {
   "cell_type": "markdown",
   "metadata": {},
   "source": [
    "## Funções Geradoras\n",
    "\n",
    "Função python que tenha a palavra chave yield"
   ]
  },
  {
   "cell_type": "code",
   "execution_count": 16,
   "metadata": {},
   "outputs": [
    {
     "name": "stdout",
     "output_type": "stream",
     "text": [
      "start\n",
      "---> A\n",
      "continue\n",
      "---> B\n",
      "end\n"
     ]
    }
   ],
   "source": [
    "def gera_AB():\n",
    "    print(\"start\")\n",
    "    yield 'A'\n",
    "    print(\"continue\")\n",
    "    yield 'B'\n",
    "    print(\"end\")\n",
    "\n",
    "for char in gera_AB():\n",
    "    print('--->', char)"
   ]
  },
  {
   "cell_type": "markdown",
   "metadata": {},
   "source": [
    "## Corrotinas\n",
    "> Programação concorrente\n",
    "\n",
    "3 tipos:\n",
    "- clássicas:\n",
    "    Consome dados enviados por .send:\n",
    "    ```\n",
    "    my_coro.send(data)\n",
    "    ```\n",
    "- baseadas em gerados:\n",
    "    Função geradora decorado com @types.coroutine, compatível com a palavra-chave await\n",
    "- nativas:\n",
    "    corrotina assícrona"
   ]
  },
  {
   "cell_type": "markdown",
   "metadata": {},
   "source": []
  },
  {
   "cell_type": "code",
   "execution_count": 17,
   "metadata": {},
   "outputs": [
    {
     "name": "stdout",
     "output_type": "stream",
     "text": [
      "Task A: Compute factorial(2)...\n",
      "Task B: Compute factorial(2)...\n",
      "Task C: Compute factorial(2)...\n",
      "Task A: factorial(2) = 2\n",
      "Task B: Compute factorial(3)...\n",
      "Task C: Compute factorial(3)...\n",
      "Task B: factorial(3) = 6\n",
      "Task C: Compute factorial(4)...\n",
      "Task C: factorial(4) = 24\n"
     ]
    }
   ],
   "source": [
    "import asyncio\n",
    "\n",
    "async def factorial(name, number):\n",
    "    f = 1\n",
    "    for i in range(2, number + 1):\n",
    "        print(f\"Task {name}: Compute factorial({i})...\")\n",
    "        await asyncio.sleep(1)\n",
    "        f *= i\n",
    "    print(f\"Task {name}: factorial({number}) = {f}\")\n",
    "\n",
    "async def main():\n",
    "    # Schedule three calls *concurrently*:\n",
    "    await asyncio.gather(\n",
    "        factorial(\"A\", 2), \n",
    "        factorial(\"B\", 3), \n",
    "        factorial(\"C\", 4)\n",
    "    )\n",
    "\n",
    "await main()"
   ]
  },
  {
   "cell_type": "code",
   "execution_count": null,
   "metadata": {},
   "outputs": [],
   "source": []
  }
 ],
 "metadata": {
  "kernelspec": {
   "display_name": "unicesumar-python-avancado-hpnoA3aI-py3.12",
   "language": "python",
   "name": "python3"
  },
  "language_info": {
   "codemirror_mode": {
    "name": "ipython",
    "version": 3
   },
   "file_extension": ".py",
   "mimetype": "text/x-python",
   "name": "python",
   "nbconvert_exporter": "python",
   "pygments_lexer": "ipython3",
   "version": "3.12.2"
  }
 },
 "nbformat": 4,
 "nbformat_minor": 2
}
